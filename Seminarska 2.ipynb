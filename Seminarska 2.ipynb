{
 "cells": [
  {
   "cell_type": "code",
   "execution_count": 10,
   "id": "d8dc0df5",
   "metadata": {
    "scrolled": false
   },
   "outputs": [
    {
     "name": "stdout",
     "output_type": "stream",
     "text": [
      "855598\n",
      "72784\n"
     ]
    }
   ],
   "source": [
    "import numpy as np\n",
    "from datetime import date\n",
    "import pandas as pd\n",
    "class UserItemData:\n",
    "    def __init__(self,path,start_date=None,end_date=None,min_ratings=0):\n",
    "        self.start_date = start_date\n",
    "        self.end_date = end_date\n",
    "        self.min_ratings = min_ratings\n",
    "        self.data_csv = pd.read_csv(path,sep='\\t')\n",
    "        if(self.start_date is not None):\n",
    "            self.data_csv = self.date_from()\n",
    "        if(self.end_date is not None):\n",
    "            self.data_csv = self.date_to()\n",
    "            \n",
    "        self.data_csv = self.data_csv.pivot(index='userID', columns='movieID', values='rating')    \n",
    "        self.data_csv = self.data_csv.loc[:, (self.data_csv.notnull().sum(axis=0) > self.min_ratings)]\n",
    "        self.count = 0\n",
    "        for i,j in self.data_csv.iterrows():\n",
    "            self.count+=j.count()\n",
    "        \n",
    "            \n",
    "    def date_from(self):\n",
    "        day_s, month_s, year_s = self.start_date.split(\".\")\n",
    "        filtered = self.data_csv[(self.data_csv['date_year'] >= int(year_s))]\n",
    "        filtered = filtered.drop(filtered[(filtered['date_year'] <= int(year_s)) & (filtered['date_month'] <= int(month_s)) & (filtered['date_day'] < int(day_s))].index)\n",
    "        filtered = filtered.drop(filtered[(filtered['date_year'] <= int(year_s)) & (filtered['date_month'] < int(month_s))].index)\n",
    "        return filtered\n",
    "    \n",
    "    def date_to(self):\n",
    "        day, month, year = self.end_date.split(\".\")\n",
    "        filtered = self.data_csv[self.data_csv['date_year'] <= int(year)]\n",
    "        filtered = filtered.drop(filtered[(filtered['date_year'] >= int(year)) & (filtered['date_month'] >= int(month)) & (filtered['date_day'] >= int(day))].index)\n",
    "        filtered = filtered.drop(filtered[(filtered['date_year'] >= int(year)) & (filtered['date_month'] > int(month))].index)\n",
    "        return filtered\n",
    "    \n",
    "    def nratings(self):\n",
    "        return self.count\n",
    "\n",
    "    \n",
    "uim = UserItemData('data/user_ratedmovies.dat')\n",
    "print(uim.nratings())\n",
    "\n",
    "\n",
    "uim = UserItemData('data/user_ratedmovies.dat', start_date = '12.1.2007', end_date='16.2.2008', min_ratings=100)\n",
    "print(uim.nratings())"
   ]
  },
  {
   "cell_type": "code",
   "execution_count": 11,
   "id": "65cbecf6",
   "metadata": {},
   "outputs": [
    {
     "name": "stdout",
     "output_type": "stream",
     "text": [
      "Toy story\n"
     ]
    }
   ],
   "source": [
    "#druga\n",
    "import pandas as pd\n",
    "class MovieData:\n",
    "    def __init__(self,path):\n",
    "        self.data = pd.read_csv(path,sep='\\t', encoding=\"latin1\")\n",
    "     \n",
    "    def get_title(self,movieID):\n",
    "        for index,value in self.data.iterrows():\n",
    "            if(value['id']==movieID):\n",
    "                return value['title']\n",
    "\n",
    "md = MovieData('data/movies.dat')\n",
    "print(md.get_title(1))  "
   ]
  },
  {
   "cell_type": "code",
   "execution_count": 12,
   "id": "eb4db824",
   "metadata": {
    "scrolled": false
   },
   "outputs": [
    {
     "name": "stdout",
     "output_type": "stream",
     "text": [
      "<class 'dict'>\n",
      "Film: Toy story, ocena: 2\n",
      "Film: Grumpy Old Men, ocena: 3\n",
      "Film: Money Train, ocena: 4\n",
      "Film: The Usual Suspects, ocena: 3\n",
      "Film: City Hall, ocena: 5\n"
     ]
    }
   ],
   "source": [
    "import random\n",
    "\n",
    "class RandomPredictor():\n",
    "    def __init__(self,min_ocena,max_ocena):\n",
    "        self.min_ocena = min_ocena\n",
    "        self.max_ocena = max_ocena\n",
    "        \n",
    "    def fit(self, X):\n",
    "        self.uim = X\n",
    "    \n",
    "    def predict(self, user_id):\n",
    "        d = {}\n",
    "        for movie, rat in self.uim.data_csv.loc[user_id].iteritems():\n",
    "            if rat:\n",
    "                rat = random.randint(self.min_ocena, self.max_ocena)         \n",
    "            d[movie] = rat\n",
    "        return d \n",
    "        \n",
    "md = MovieData('data/movies.dat')\n",
    "uim = UserItemData('data/user_ratedmovies.dat')\n",
    "rp = RandomPredictor(1, 5)\n",
    "rp.fit(uim)\n",
    "pred = rp.predict(78)\n",
    "print(type(pred))\n",
    "items = [1, 3, 20, 50, 100]\n",
    "for item in items:\n",
    "    print(\"Film: {}, ocena: {}\".format(md.get_title(item), pred[item]))\n",
    "    "
   ]
  },
  {
   "cell_type": "code",
   "execution_count": 13,
   "id": "78dca0e0",
   "metadata": {},
   "outputs": [
    {
     "name": "stdout",
     "output_type": "stream",
     "text": [
      "Film: Waiting to Exhale, ocena: 5\n",
      "Film: Nixon, ocena: 5\n",
      "Film: Get Shorty, ocena: 5\n",
      "Film: Copycat, ocena: 5\n",
      "Film: Now and Then, ocena: 5\n"
     ]
    }
   ],
   "source": [
    "#cetvrta\n",
    "#nije fixed\n",
    "import operator\n",
    "\n",
    "class Recommender:\n",
    "    def __init__(self,predictor):\n",
    "        self.predictor = predictor\n",
    "    \n",
    "    def fit(self,X):\n",
    "        self.uim = X\n",
    "        self.predictor.fit(X)\n",
    "        \n",
    "    def recommend(self,userID,n=10,rec_seen=True):\n",
    "        d = self.predictor.predict(userID)\n",
    "        if rec_seen == False:\n",
    "            seznam = [i for i in self.uim.data_csv.loc[userID][self.uim.data_csv.loc[userID].notnull()].index]\n",
    "            for i in seznam:\n",
    "                if i in d.keys():\n",
    "                    del d[i]\n",
    "        \n",
    "        dic = dict(sorted(d.items(), key=operator.itemgetter(1),reverse=True))\n",
    "        final = []\n",
    "        for index,key in enumerate(dic.keys()):\n",
    "            if(index < n):\n",
    "                final.append((key,dic[key]))\n",
    "        return final\n",
    "            \n",
    "        \n",
    "md = MovieData('data/movies.dat')\n",
    "uim = UserItemData('data/user_ratedmovies.dat')\n",
    "\n",
    "rp = RandomPredictor(1, 5)\n",
    "rec = Recommender(rp)\n",
    "rec.fit(uim)\n",
    "rec_items = rec.recommend(78, n=5, rec_seen=False)\n",
    "for idmovie, val in rec_items:\n",
    "    print(\"Film: {}, ocena: {}\".format(md.get_title(idmovie), val))"
   ]
  },
  {
   "cell_type": "code",
   "execution_count": 5,
   "id": "2712899e",
   "metadata": {},
   "outputs": [
    {
     "name": "stdout",
     "output_type": "stream",
     "text": [
      "Film: The Usual Suspects, ocena: 4.225944245560473\n",
      "Film: The Godfather: Part II, ocena: 4.146907937910189\n",
      "Film: Cidade de Deus, ocena: 4.116538340205236\n",
      "Film: The Dark Knight, ocena: 4.10413904093503\n",
      "Film: 12 Angry Men, ocena: 4.103639627096175\n"
     ]
    }
   ],
   "source": [
    "class AveragePredictor():\n",
    "    def __init__(self,b=0):\n",
    "        if(b < 0):\n",
    "            self.b = 0\n",
    "        else:\n",
    "            self.b = b\n",
    "    \n",
    "    def fit(self, X):\n",
    "        self.uim = X\n",
    "        self.d = {}\n",
    "        g_avg = self.uim.data_csv.sum().sum() / self.uim.count\n",
    "        #avg = (vs + b * g_avg) / (n + b)\n",
    "        for i in self.uim.data_csv:\n",
    "            vs = self.uim.data_csv[i].sum()\n",
    "            n = self.uim.data_csv[i].count()\n",
    "            avg = (vs + self.b * g_avg) / (n+self.b)\n",
    "            self.d[i] = avg\n",
    "            \n",
    "    \n",
    "    def predict(self,userID):\n",
    "        return self.d\n",
    "        \n",
    "            \n",
    "md = MovieData('data/movies.dat')\n",
    "uim = UserItemData('data/user_ratedmovies.dat')\n",
    "\n",
    "rp = AveragePredictor(b=100)\n",
    "rec = Recommender(rp)\n",
    "rec.fit(uim)\n",
    "rec_items = rec.recommend(78, n=5, rec_seen=False)\n",
    "for idmovie, val in rec_items:\n",
    "    print(\"Film: {}, ocena: {}\".format(md.get_title(idmovie), val))        \n",
    "    "
   ]
  },
  {
   "cell_type": "code",
   "execution_count": 6,
   "id": "f1f52472",
   "metadata": {},
   "outputs": [
    {
     "name": "stdout",
     "output_type": "stream",
     "text": [
      "Film: The Lord of the Rings: The Fellowship of the Ring, ocena: 1576\n",
      "Film: The Lord of the Rings: The Two Towers, ocena: 1528\n",
      "Film: The Lord of the Rings: The Return of the King, ocena: 1457\n",
      "Film: The Silence of the Lambs, ocena: 1431\n",
      "Film: Shrek, ocena: 1404\n"
     ]
    }
   ],
   "source": [
    "class ViewsPredictor():\n",
    "    def fit(self, X):\n",
    "        self.uim = X\n",
    "    def predict(self, userID):\n",
    "        d = {}\n",
    "        for i in self.uim.data_csv:\n",
    "            d[i] = self.uim.data_csv[i][self.uim.data_csv[i].notnull()].count()\n",
    "        return d\n",
    "\n",
    "        \n",
    "        \n",
    "rp = ViewsPredictor()\n",
    "rec = Recommender(rp)\n",
    "rec.fit(uim)\n",
    "rec_items = rec.recommend(78, n=5, rec_seen=False)\n",
    "for idmovie, val in rec_items:\n",
    "    print(\"Film: {}, ocena: {}\".format(md.get_title(idmovie), val)) "
   ]
  },
  {
   "cell_type": "code",
   "execution_count": 7,
   "id": "168939b1",
   "metadata": {},
   "outputs": [
    {
     "name": "stdout",
     "output_type": "stream",
     "text": [
      "Film: Plan 9 from Outer Space, ocena: 1.3386525190884058\n",
      "Film: The Passion of the Christ, ocena: 1.2790640858537328\n",
      "Film: The Texas Chainsaw Massacre, ocena: 1.2306963889088796\n",
      "Film: Jackass Number Two, ocena: 1.2134235427973517\n",
      "Film: White Chicks, ocena: 1.1841675574946435\n"
     ]
    }
   ],
   "source": [
    "class STDPredictor:\n",
    "    def __init__(self, min_ratings):\n",
    "        self.min_ratings = min_ratings\n",
    "    \n",
    "    def fit(self, X):\n",
    "        self.uim = X\n",
    "        \n",
    "    def predict(self, userID):\n",
    "        d = {}\n",
    "        for i in uim.data_csv:\n",
    "            if(uim.data_csv[i][uim.data_csv[i].notnull()].count() >= self.min_ratings):\n",
    "                d[i] = np.std(uim.data_csv[i])\n",
    "        return d\n",
    "\n",
    "\n",
    "md = MovieData('data/movies.dat')\n",
    "uim = UserItemData('data/user_ratedmovies.dat')\n",
    "rp = STDPredictor(100)\n",
    "rec = Recommender(rp)\n",
    "rec.fit(uim)\n",
    "rec_items = rec.recommend(78, n=5, rec_seen=False)\n",
    "for idmovie, val in rec_items:\n",
    "    print(\"Film: {}, ocena: {}\".format(md.get_title(idmovie), val))         \n"
   ]
  },
  {
   "cell_type": "code",
   "execution_count": 14,
   "id": "3a499085",
   "metadata": {},
   "outputs": [
    {
     "ename": "MemoryError",
     "evalue": "",
     "output_type": "error",
     "traceback": [
      "\u001b[1;31m---------------------------------------------------------------------------\u001b[0m",
      "\u001b[1;31mMemoryError\u001b[0m                               Traceback (most recent call last)",
      "\u001b[1;32m~\\AppData\\Local\\Temp/ipykernel_11848/2856005646.py\u001b[0m in \u001b[0;36m<module>\u001b[1;34m\u001b[0m\n\u001b[0;32m     83\u001b[0m \u001b[0mrp\u001b[0m \u001b[1;33m=\u001b[0m \u001b[0mItemBasedPredictor\u001b[0m\u001b[1;33m(\u001b[0m\u001b[1;33m)\u001b[0m\u001b[1;33m\u001b[0m\u001b[1;33m\u001b[0m\u001b[0m\n\u001b[0;32m     84\u001b[0m \u001b[0mrec\u001b[0m \u001b[1;33m=\u001b[0m \u001b[0mRecommender\u001b[0m\u001b[1;33m(\u001b[0m\u001b[0mrp\u001b[0m\u001b[1;33m)\u001b[0m\u001b[1;33m\u001b[0m\u001b[1;33m\u001b[0m\u001b[0m\n\u001b[1;32m---> 85\u001b[1;33m \u001b[0mrec\u001b[0m\u001b[1;33m.\u001b[0m\u001b[0mfit\u001b[0m\u001b[1;33m(\u001b[0m\u001b[0muim\u001b[0m\u001b[1;33m)\u001b[0m\u001b[1;33m\u001b[0m\u001b[1;33m\u001b[0m\u001b[0m\n\u001b[0m\u001b[0;32m     86\u001b[0m \u001b[1;31m#print(uim.movies)\u001b[0m\u001b[1;33m\u001b[0m\u001b[1;33m\u001b[0m\u001b[1;33m\u001b[0m\u001b[0m\n\u001b[0;32m     87\u001b[0m \u001b[0mprint\u001b[0m\u001b[1;33m(\u001b[0m\u001b[1;34m\"Podobnost med filmoma 'Men in black'(1580) in 'Ghostbusters'(2716): \"\u001b[0m\u001b[1;33m,\u001b[0m \u001b[0mrp\u001b[0m\u001b[1;33m.\u001b[0m\u001b[0msimilarity\u001b[0m\u001b[1;33m(\u001b[0m\u001b[1;36m1580\u001b[0m\u001b[1;33m,\u001b[0m \u001b[1;36m2716\u001b[0m\u001b[1;33m)\u001b[0m\u001b[1;33m)\u001b[0m\u001b[1;33m\u001b[0m\u001b[1;33m\u001b[0m\u001b[0m\n",
      "\u001b[1;32m~\\AppData\\Local\\Temp/ipykernel_11848/1039238132.py\u001b[0m in \u001b[0;36mfit\u001b[1;34m(self, X)\u001b[0m\n\u001b[0;32m      9\u001b[0m     \u001b[1;32mdef\u001b[0m \u001b[0mfit\u001b[0m\u001b[1;33m(\u001b[0m\u001b[0mself\u001b[0m\u001b[1;33m,\u001b[0m\u001b[0mX\u001b[0m\u001b[1;33m)\u001b[0m\u001b[1;33m:\u001b[0m\u001b[1;33m\u001b[0m\u001b[1;33m\u001b[0m\u001b[0m\n\u001b[0;32m     10\u001b[0m         \u001b[0mself\u001b[0m\u001b[1;33m.\u001b[0m\u001b[0muim\u001b[0m \u001b[1;33m=\u001b[0m \u001b[0mX\u001b[0m\u001b[1;33m\u001b[0m\u001b[1;33m\u001b[0m\u001b[0m\n\u001b[1;32m---> 11\u001b[1;33m         \u001b[0mself\u001b[0m\u001b[1;33m.\u001b[0m\u001b[0mpredictor\u001b[0m\u001b[1;33m.\u001b[0m\u001b[0mfit\u001b[0m\u001b[1;33m(\u001b[0m\u001b[0mX\u001b[0m\u001b[1;33m)\u001b[0m\u001b[1;33m\u001b[0m\u001b[1;33m\u001b[0m\u001b[0m\n\u001b[0m\u001b[0;32m     12\u001b[0m \u001b[1;33m\u001b[0m\u001b[0m\n\u001b[0;32m     13\u001b[0m     \u001b[1;32mdef\u001b[0m \u001b[0mrecommend\u001b[0m\u001b[1;33m(\u001b[0m\u001b[0mself\u001b[0m\u001b[1;33m,\u001b[0m\u001b[0muserID\u001b[0m\u001b[1;33m,\u001b[0m\u001b[0mn\u001b[0m\u001b[1;33m=\u001b[0m\u001b[1;36m10\u001b[0m\u001b[1;33m,\u001b[0m\u001b[0mrec_seen\u001b[0m\u001b[1;33m=\u001b[0m\u001b[1;32mTrue\u001b[0m\u001b[1;33m)\u001b[0m\u001b[1;33m:\u001b[0m\u001b[1;33m\u001b[0m\u001b[1;33m\u001b[0m\u001b[0m\n",
      "\u001b[1;32m~\\AppData\\Local\\Temp/ipykernel_11848/2856005646.py\u001b[0m in \u001b[0;36mfit\u001b[1;34m(self, X)\u001b[0m\n\u001b[0;32m      9\u001b[0m \u001b[1;33m\u001b[0m\u001b[0m\n\u001b[0;32m     10\u001b[0m         \u001b[0mmovies\u001b[0m \u001b[1;33m=\u001b[0m \u001b[1;33m[\u001b[0m\u001b[0mi\u001b[0m \u001b[1;32mfor\u001b[0m \u001b[0mi\u001b[0m \u001b[1;32min\u001b[0m \u001b[0mself\u001b[0m\u001b[1;33m.\u001b[0m\u001b[0muim\u001b[0m\u001b[1;33m.\u001b[0m\u001b[0mdata_csv\u001b[0m\u001b[1;33m]\u001b[0m\u001b[1;33m\u001b[0m\u001b[1;33m\u001b[0m\u001b[0m\n\u001b[1;32m---> 11\u001b[1;33m         \u001b[0mmovies_comb\u001b[0m \u001b[1;33m=\u001b[0m \u001b[0mlist\u001b[0m\u001b[1;33m(\u001b[0m\u001b[0mcombinations\u001b[0m\u001b[1;33m(\u001b[0m\u001b[0mmovies\u001b[0m\u001b[1;33m,\u001b[0m\u001b[1;36m2\u001b[0m\u001b[1;33m)\u001b[0m\u001b[1;33m)\u001b[0m\u001b[1;33m\u001b[0m\u001b[1;33m\u001b[0m\u001b[0m\n\u001b[0m\u001b[0;32m     12\u001b[0m \u001b[1;33m\u001b[0m\u001b[0m\n\u001b[0;32m     13\u001b[0m         \u001b[1;32mfor\u001b[0m \u001b[0mprvi\u001b[0m\u001b[1;33m,\u001b[0m \u001b[0mdrugi\u001b[0m \u001b[1;32min\u001b[0m \u001b[0mmovies_comb\u001b[0m\u001b[1;33m:\u001b[0m\u001b[1;33m\u001b[0m\u001b[1;33m\u001b[0m\u001b[0m\n",
      "\u001b[1;31mMemoryError\u001b[0m: "
     ]
    }
   ],
   "source": [
    "from itertools import combinations\n",
    "class ItemBasedPredictor:\n",
    "    def __init__(self,min_values=0,threshold=0):\n",
    "        self.min_values = 0\n",
    "        self.threshold = 0\n",
    "    def fit(self,X):\n",
    "        self.uim = X\n",
    "        self.all_sims = {}\n",
    "        \n",
    "        movies = [i for i in self.uim.data_csv]\n",
    "        movies_comb = list(combinations(movies,2))\n",
    "        \n",
    "        for prvi, drugi in movies_comb:\n",
    "            if not (drugi,prvi) in self.all_sims.keys():\n",
    "                sim = self.similarity(prvi,drugi)\n",
    "                self.all_sims[(prvi,drugi)] = sim\n",
    "    \n",
    "        \n",
    "    def similarity(self, p1, p2):\n",
    "        filtered = self.uim.data_csv[(self.uim.data_csv[p1].notnull()) & (self.uim.data_csv[p2].notnull())]\n",
    "        p1_rat = filtered[p1]\n",
    "        p2_rat = filtered[p2]\n",
    "        mean_rat = np.array(filtered.mean(axis=1))\n",
    "        \n",
    "        gore = sum((p1_rat - mean_rat) * (p2_rat - mean_rat))\n",
    "        prvi_sqr = sum((p1_rat - mean_rat) ** 2)\n",
    "        drugi_sqr = sum((p2_rat - mean_rat)**2)\n",
    "        dole = np.sqrt(prvi_sqr) * np.sqrt(drugi_sqr)\n",
    "        \n",
    "        st_rat = len(matrix.index)\n",
    "        rez = gore/dole\n",
    "        \n",
    "        if(rez < 0  or st_rat < self.min_values):\n",
    "            return 0\n",
    "        \n",
    "        return gore/dole\n",
    "    \n",
    "    def predict(self, userID):\n",
    "        d = {}\n",
    "        #all not rated movies\n",
    "        movies = self.uim.data_csv.loc[userID][self.uim.data_csv.loc[userID].isnull()].index.tolist()\n",
    "        #(sim izmadju dva filma * ocena tog usera za taj film drugi )\n",
    "        for movie in movies:\n",
    "            gore = 0\n",
    "            dole = 0\n",
    "            for index, ratings in self.uim.data_csv.iteritems():\n",
    "                if(index != movie and index not in movies):\n",
    "                    ocena = self.uim.data_csv.loc[userID][index]\n",
    "                    par = tuple(sorted([movie,index]))\n",
    "                    sim = self.all_sims[par]\n",
    "                    gore += sim * ocena\n",
    "                    dole += sim\n",
    "            if(movie not in d.keys() and dole > 0):\n",
    "                d[movie] = gore/dole\n",
    "        return d\n",
    "    \n",
    "    def num_of_similar(self, number):\n",
    "        dic = dict(sorted(self.all_sims.items(), key=operator.itemgetter(1),reverse=True))    \n",
    "        final = []\n",
    "        for index,key in enumerate(dic.keys()):\n",
    "            if(index < number):\n",
    "                final.append((key,dic[key]))\n",
    "        return final\n",
    "    \n",
    "    def similarItems(self, item, n):\n",
    "        most_similar = {}\n",
    "        for par in self.all_sims.keys():\n",
    "            if(item in par):\n",
    "                if(par.index(item) == 0):\n",
    "                    most_similar[par[1]] = self.all_sims[par]\n",
    "                else:\n",
    "                    most_similar[par[0]] = self.all_sims[par]\n",
    "                    \n",
    "        dic = dict(sorted(most_similar.items(), key=operator.itemgetter(1),reverse=True)) \n",
    "        final = []\n",
    "        for index,key in enumerate(dic.keys()):\n",
    "            if(index < n):\n",
    "                final.append((key,dic[key]))\n",
    "        return final\n",
    "                \n",
    "        \n",
    "uim = UserItemData('data/user_ratedmovies.dat')\n",
    "rp = ItemBasedPredictor()\n",
    "rec = Recommender(rp)\n",
    "rec.fit(uim)\n",
    "#print(uim.movies)\n",
    "print(\"Podobnost med filmoma 'Men in black'(1580) in 'Ghostbusters'(2716): \", rp.similarity(1580, 2716))\n",
    "print(\"Podobnost med filmoma 'Men in black'(1580) in 'Schindler's List'(527): \", rp.similarity(1580, 527))\n",
    "print(\"Podobnost med filmoma 'Men in black'(1580) in 'Independence day'(780): \", rp.similarity(1580, 780))\n"
   ]
  },
  {
   "cell_type": "code",
   "execution_count": null,
   "id": "0d98dcb8",
   "metadata": {},
   "outputs": [],
   "source": [
    "print(\"Predictions for 78: \")\n",
    "rec_items = rec.recommend(78, n=15, rec_seen=False)\n",
    "for idmovie, val in rec_items:\n",
    "    print(\"Film: {}, ocena: {}\".format(md.get_title(idmovie), val))"
   ]
  },
  {
   "cell_type": "code",
   "execution_count": null,
   "id": "72ad37a5",
   "metadata": {},
   "outputs": [],
   "source": [
    "top20 = rp.num_of_similar(20)\n",
    "for (i, j), val in top20:\n",
    "    print(\"Film1: {}, Film2: {}, podobnost: {}\".format(md.get_title(i), md.get_title(j), val))"
   ]
  },
  {
   "cell_type": "code",
   "execution_count": null,
   "id": "dacbf8a4",
   "metadata": {},
   "outputs": [],
   "source": [
    "rec_items = rp.similarItems(4993, 20)\n",
    "print('Filmi podobni \"The Lord of the Rings: The Fellowship of the Ring\": ')\n",
    "for idmovie, val in rec_items:\n",
    "    print(\"Film: {}, ocena: {}\".format(md.get_title(idmovie), val))"
   ]
  },
  {
   "cell_type": "code",
   "execution_count": null,
   "id": "91ba2a08",
   "metadata": {},
   "outputs": [],
   "source": []
  }
 ],
 "metadata": {
  "kernelspec": {
   "display_name": "Python 3 (ipykernel)",
   "language": "python",
   "name": "python3"
  },
  "language_info": {
   "codemirror_mode": {
    "name": "ipython",
    "version": 3
   },
   "file_extension": ".py",
   "mimetype": "text/x-python",
   "name": "python",
   "nbconvert_exporter": "python",
   "pygments_lexer": "ipython3",
   "version": "3.7.4"
  }
 },
 "nbformat": 4,
 "nbformat_minor": 5
}
